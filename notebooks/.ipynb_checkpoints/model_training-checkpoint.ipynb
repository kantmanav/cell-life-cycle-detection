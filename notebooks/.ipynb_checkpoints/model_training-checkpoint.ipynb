{
 "cells": [
  {
   "cell_type": "code",
   "execution_count": 1,
   "id": "edb3e174",
   "metadata": {},
   "outputs": [
    {
     "data": {
      "text/plain": [
       "{'PATH': '/usr/local/nvidia/bin:/usr/local/cuda/bin:/usr/local/sbin:/usr/local/bin:/usr/sbin:/usr/bin:/sbin:/bin',\n",
       " 'HOSTNAME': '54805b0ab08f',\n",
       " 'TERM': 'xterm-color',\n",
       " 'CUDA_VERSION': '11.2.1',\n",
       " 'LD_LIBRARY_PATH': '/usr/local/cuda/extras/CUPTI/lib64:/usr/local/cuda/lib64:/usr/local/nvidia/lib:/usr/local/nvidia/lib64',\n",
       " 'NVIDIA_VISIBLE_DEVICES': '0',\n",
       " 'NVIDIA_DRIVER_CAPABILITIES': 'compute,utility',\n",
       " 'NVIDIA_REQUIRE_CUDA': 'cuda>=11.2 brand=tesla,driver>=418,driver<419 brand=tesla,driver>=440,driver<441 driver>=450',\n",
       " 'LANG': 'C.UTF-8',\n",
       " 'HOME': '/root',\n",
       " 'JPY_PARENT_PID': '1',\n",
       " 'CLICOLOR': '1',\n",
       " 'PAGER': 'cat',\n",
       " 'GIT_PAGER': 'cat',\n",
       " 'MPLBACKEND': 'module://ipykernel.pylab.backend_inline'}"
      ]
     },
     "execution_count": 1,
     "metadata": {},
     "output_type": "execute_result"
    }
   ],
   "source": [
    "%env"
   ]
  },
  {
   "cell_type": "code",
   "execution_count": null,
   "id": "6f058560",
   "metadata": {},
   "outputs": [],
   "source": []
  },
  {
   "cell_type": "code",
   "execution_count": 1,
   "id": "4aa7ad81",
   "metadata": {},
   "outputs": [
    {
     "name": "stdout",
     "output_type": "stream",
     "text": [
      "2.5.0\n"
     ]
    },
    {
     "name": "stderr",
     "output_type": "stream",
     "text": [
      "/usr/local/lib/python3.6/dist-packages/tensorflow/python/keras/optimizer_v2/optimizer_v2.py:375: UserWarning: The `lr` argument is deprecated, use `learning_rate` instead.\n",
      "  \"The `lr` argument is deprecated, use `learning_rate` instead.\")\n"
     ]
    }
   ],
   "source": [
    "import os\n",
    "import numpy as np\n",
    "\n",
    "import tensorflow as tf\n",
    "import tensorflow_addons as tfa\n",
    "gpus = tf.config.experimental.list_physical_devices('GPU')\n",
    "for gpu in gpus:\n",
    "      tf.config.experimental.set_memory_growth(gpu, True)\n",
    "print(tf.__version__)\n",
    "AUTOTUNE = tf.data.experimental.AUTOTUNE\n",
    "\n",
    "import deepcell\n",
    "from deepcell_tracking.utils import Track, load_trks\n",
    "from sklearn.model_selection import train_test_split\n",
    "from deepcell.utils.data_utils import reshape_movie\n",
    "from deepcell.utils.transform_utils import erode_edges\n",
    "from deepcell.data import split_dataset\n",
    "from deepcell_toolbox.processing import normalize, histogram_normalization\n",
    "\n",
    "import spektral"
   ]
  },
  {
   "cell_type": "code",
   "execution_count": 2,
   "id": "96e1a556",
   "metadata": {},
   "outputs": [
    {
     "name": "stdout",
     "output_type": "stream",
     "text": [
      "CPU times: user 468 ms, sys: 929 ms, total: 1.4 s\n",
      "Wall time: 1.4 s\n"
     ]
    }
   ],
   "source": [
    "%%time\n",
    "path_temp_trks = '/data/3T3_nuc_s0-s2.trks'\n",
    "all_data = [load_trks(path_temp_trks)]"
   ]
  },
  {
   "cell_type": "code",
   "execution_count": 3,
   "id": "f20c43a2",
   "metadata": {},
   "outputs": [
    {
     "name": "stdout",
     "output_type": "stream",
     "text": [
      "CPU times: user 1min 49s, sys: 4.37 s, total: 1min 53s\n",
      "Wall time: 1min 44s\n"
     ]
    }
   ],
   "source": [
    "%%time\n",
    "all_tracks = [Track(tracked_data=d) for d in all_data]"
   ]
  },
  {
   "cell_type": "code",
   "execution_count": 4,
   "id": "b959b390",
   "metadata": {},
   "outputs": [
    {
     "name": "stdout",
     "output_type": "stream",
     "text": [
      "CPU times: user 1.17 s, sys: 2.03 s, total: 3.19 s\n",
      "Wall time: 643 ms\n"
     ]
    }
   ],
   "source": [
    "%%time\n",
    "from deepcell_tracking.utils import concat_tracks\n",
    "track_info = concat_tracks(all_tracks)"
   ]
  },
  {
   "cell_type": "code",
   "execution_count": 5,
   "id": "e391df28",
   "metadata": {},
   "outputs": [
    {
     "name": "stdout",
     "output_type": "stream",
     "text": [
      "appearances (11, 71, 168, 32, 32, 1)\n",
      "centroids (11, 71, 168, 2)\n",
      "morphologies (11, 71, 168, 3)\n",
      "adj_matrices (11, 71, 168, 168)\n",
      "norm_adj_matrices (11, 71, 168, 168)\n",
      "temporal_adj_matrices (11, 70, 168, 168, 3)\n"
     ]
    }
   ],
   "source": [
    "for k, v in track_info.items():\n",
    "    print(k, v.shape)"
   ]
  },
  {
   "cell_type": "code",
   "execution_count": 6,
   "id": "02d65e1e",
   "metadata": {},
   "outputs": [],
   "source": [
    "from skimage.exposure import rescale_intensity\n",
    "\n",
    "def norm(X):\n",
    "    X_norm = histogram_normalization(X, kernel_size=32)\n",
    "    \n",
    "    X_rescaled = np.zeros(X_norm.shape)\n",
    "    for batch in range(X.shape[0]):\n",
    "        for frame in range(X.shape[1]):\n",
    "            x = X[batch, frame]\n",
    "            x = rescale_intensity(x, out_range=(0,1))\n",
    "            X_rescaled[batch, frame] = x\n",
    "            \n",
    "    return X_rescaled\n",
    "\n",
    "def prepare_dataset(track_info, batch_size=1, buffer_size=256,\n",
    "                    seed=None, val_split=0.2):\n",
    "    \n",
    "    # Merge tracks along the batch axis\n",
    "    appearances = track_info['appearances']\n",
    "    \n",
    "    app_shape = np.shape(appearances)\n",
    "    appearances = np.swapaxes(appearances, 1,2) #(0,2,1,3,4,5))\n",
    "    appearances = np.reshape(appearances, [-1, app_shape[1], app_shape[3], app_shape[4], app_shape[5]])\n",
    "    \n",
    "    # Normalize appearances\n",
    "    appearances = norm(appearances)\n",
    "    \n",
    "    input_dict = {'appearances': appearances}\n",
    "    \n",
    "    output_dict = {'appearances_decoder': appearances}\n",
    "    \n",
    "    dataset = tf.data.Dataset.from_tensor_slices((input_dict, output_dict))\n",
    "    \n",
    "    dataset = dataset.shuffle(buffer_size, seed=seed)\n",
    "    \n",
    "    # split into train/val\n",
    "    train_data, val_data = split_dataset(dataset, val_split)\n",
    "    \n",
    "    # batch the data\n",
    "    train_data = train_data.repeat().batch(batch_size)\n",
    "    val_data = val_data.repeat().batch(batch_size)\n",
    "    \n",
    "    # prefetch the data\n",
    "    train_data = train_data.prefetch(tf.data.AUTOTUNE)\n",
    "    val_data = val_data.prefetch(tf.data.AUTOTUNE)\n",
    "    \n",
    "    return train_data, val_data"
   ]
  },
  {
   "cell_type": "code",
   "execution_count": 7,
   "id": "2eda4edd",
   "metadata": {
    "scrolled": true
   },
   "outputs": [
    {
     "name": "stderr",
     "output_type": "stream",
     "text": [
      "WARNING:root:Found constant value array in batch 137 and channel 0. Normalizing as zeros.\n",
      "WARNING:root:Found constant value array in batch 138 and channel 0. Normalizing as zeros.\n",
      "WARNING:root:Found constant value array in batch 139 and channel 0. Normalizing as zeros.\n",
      "WARNING:root:Found constant value array in batch 140 and channel 0. Normalizing as zeros.\n",
      "WARNING:root:Found constant value array in batch 141 and channel 0. Normalizing as zeros.\n",
      "WARNING:root:Found constant value array in batch 142 and channel 0. Normalizing as zeros.\n",
      "WARNING:root:Found constant value array in batch 143 and channel 0. Normalizing as zeros.\n",
      "WARNING:root:Found constant value array in batch 144 and channel 0. Normalizing as zeros.\n",
      "WARNING:root:Found constant value array in batch 145 and channel 0. Normalizing as zeros.\n",
      "WARNING:root:Found constant value array in batch 146 and channel 0. Normalizing as zeros.\n",
      "WARNING:root:Found constant value array in batch 147 and channel 0. Normalizing as zeros.\n",
      "WARNING:root:Found constant value array in batch 148 and channel 0. Normalizing as zeros.\n",
      "WARNING:root:Found constant value array in batch 149 and channel 0. Normalizing as zeros.\n",
      "WARNING:root:Found constant value array in batch 150 and channel 0. Normalizing as zeros.\n",
      "WARNING:root:Found constant value array in batch 151 and channel 0. Normalizing as zeros.\n",
      "WARNING:root:Found constant value array in batch 152 and channel 0. Normalizing as zeros.\n",
      "WARNING:root:Found constant value array in batch 153 and channel 0. Normalizing as zeros.\n",
      "WARNING:root:Found constant value array in batch 154 and channel 0. Normalizing as zeros.\n",
      "WARNING:root:Found constant value array in batch 155 and channel 0. Normalizing as zeros.\n",
      "WARNING:root:Found constant value array in batch 156 and channel 0. Normalizing as zeros.\n",
      "WARNING:root:Found constant value array in batch 157 and channel 0. Normalizing as zeros.\n",
      "WARNING:root:Found constant value array in batch 158 and channel 0. Normalizing as zeros.\n",
      "WARNING:root:Found constant value array in batch 159 and channel 0. Normalizing as zeros.\n",
      "WARNING:root:Found constant value array in batch 160 and channel 0. Normalizing as zeros.\n",
      "WARNING:root:Found constant value array in batch 161 and channel 0. Normalizing as zeros.\n",
      "WARNING:root:Found constant value array in batch 162 and channel 0. Normalizing as zeros.\n",
      "WARNING:root:Found constant value array in batch 163 and channel 0. Normalizing as zeros.\n",
      "WARNING:root:Found constant value array in batch 164 and channel 0. Normalizing as zeros.\n",
      "WARNING:root:Found constant value array in batch 165 and channel 0. Normalizing as zeros.\n",
      "WARNING:root:Found constant value array in batch 166 and channel 0. Normalizing as zeros.\n",
      "WARNING:root:Found constant value array in batch 167 and channel 0. Normalizing as zeros.\n",
      "WARNING:root:Found constant value array in batch 470 and channel 0. Normalizing as zeros.\n",
      "WARNING:root:Found constant value array in batch 471 and channel 0. Normalizing as zeros.\n",
      "WARNING:root:Found constant value array in batch 472 and channel 0. Normalizing as zeros.\n",
      "WARNING:root:Found constant value array in batch 473 and channel 0. Normalizing as zeros.\n",
      "WARNING:root:Found constant value array in batch 474 and channel 0. Normalizing as zeros.\n",
      "WARNING:root:Found constant value array in batch 475 and channel 0. Normalizing as zeros.\n",
      "WARNING:root:Found constant value array in batch 476 and channel 0. Normalizing as zeros.\n",
      "WARNING:root:Found constant value array in batch 477 and channel 0. Normalizing as zeros.\n",
      "WARNING:root:Found constant value array in batch 478 and channel 0. Normalizing as zeros.\n",
      "WARNING:root:Found constant value array in batch 479 and channel 0. Normalizing as zeros.\n",
      "WARNING:root:Found constant value array in batch 480 and channel 0. Normalizing as zeros.\n",
      "WARNING:root:Found constant value array in batch 481 and channel 0. Normalizing as zeros.\n",
      "WARNING:root:Found constant value array in batch 482 and channel 0. Normalizing as zeros.\n",
      "WARNING:root:Found constant value array in batch 483 and channel 0. Normalizing as zeros.\n",
      "WARNING:root:Found constant value array in batch 484 and channel 0. Normalizing as zeros.\n",
      "WARNING:root:Found constant value array in batch 485 and channel 0. Normalizing as zeros.\n",
      "WARNING:root:Found constant value array in batch 486 and channel 0. Normalizing as zeros.\n",
      "WARNING:root:Found constant value array in batch 487 and channel 0. Normalizing as zeros.\n",
      "WARNING:root:Found constant value array in batch 488 and channel 0. Normalizing as zeros.\n",
      "WARNING:root:Found constant value array in batch 489 and channel 0. Normalizing as zeros.\n",
      "WARNING:root:Found constant value array in batch 490 and channel 0. Normalizing as zeros.\n",
      "WARNING:root:Found constant value array in batch 491 and channel 0. Normalizing as zeros.\n",
      "WARNING:root:Found constant value array in batch 492 and channel 0. Normalizing as zeros.\n",
      "WARNING:root:Found constant value array in batch 493 and channel 0. Normalizing as zeros.\n",
      "WARNING:root:Found constant value array in batch 494 and channel 0. Normalizing as zeros.\n",
      "WARNING:root:Found constant value array in batch 495 and channel 0. Normalizing as zeros.\n",
      "WARNING:root:Found constant value array in batch 496 and channel 0. Normalizing as zeros.\n",
      "WARNING:root:Found constant value array in batch 497 and channel 0. Normalizing as zeros.\n",
      "WARNING:root:Found constant value array in batch 498 and channel 0. Normalizing as zeros.\n",
      "WARNING:root:Found constant value array in batch 499 and channel 0. Normalizing as zeros.\n",
      "WARNING:root:Found constant value array in batch 500 and channel 0. Normalizing as zeros.\n",
      "WARNING:root:Found constant value array in batch 501 and channel 0. Normalizing as zeros.\n",
      "WARNING:root:Found constant value array in batch 502 and channel 0. Normalizing as zeros.\n",
      "WARNING:root:Found constant value array in batch 503 and channel 0. Normalizing as zeros.\n",
      "WARNING:root:Found constant value array in batch 654 and channel 0. Normalizing as zeros.\n",
      "WARNING:root:Found constant value array in batch 655 and channel 0. Normalizing as zeros.\n",
      "WARNING:root:Found constant value array in batch 656 and channel 0. Normalizing as zeros.\n",
      "WARNING:root:Found constant value array in batch 657 and channel 0. Normalizing as zeros.\n",
      "WARNING:root:Found constant value array in batch 658 and channel 0. Normalizing as zeros.\n",
      "WARNING:root:Found constant value array in batch 659 and channel 0. Normalizing as zeros.\n",
      "WARNING:root:Found constant value array in batch 660 and channel 0. Normalizing as zeros.\n",
      "WARNING:root:Found constant value array in batch 661 and channel 0. Normalizing as zeros.\n",
      "WARNING:root:Found constant value array in batch 662 and channel 0. Normalizing as zeros.\n",
      "WARNING:root:Found constant value array in batch 663 and channel 0. Normalizing as zeros.\n",
      "WARNING:root:Found constant value array in batch 664 and channel 0. Normalizing as zeros.\n",
      "WARNING:root:Found constant value array in batch 665 and channel 0. Normalizing as zeros.\n",
      "WARNING:root:Found constant value array in batch 666 and channel 0. Normalizing as zeros.\n",
      "WARNING:root:Found constant value array in batch 667 and channel 0. Normalizing as zeros.\n",
      "WARNING:root:Found constant value array in batch 668 and channel 0. Normalizing as zeros.\n",
      "WARNING:root:Found constant value array in batch 669 and channel 0. Normalizing as zeros.\n",
      "WARNING:root:Found constant value array in batch 670 and channel 0. Normalizing as zeros.\n",
      "WARNING:root:Found constant value array in batch 671 and channel 0. Normalizing as zeros.\n",
      "WARNING:root:Found constant value array in batch 778 and channel 0. Normalizing as zeros.\n",
      "WARNING:root:Found constant value array in batch 779 and channel 0. Normalizing as zeros.\n",
      "WARNING:root:Found constant value array in batch 780 and channel 0. Normalizing as zeros.\n",
      "WARNING:root:Found constant value array in batch 781 and channel 0. Normalizing as zeros.\n",
      "WARNING:root:Found constant value array in batch 782 and channel 0. Normalizing as zeros.\n",
      "WARNING:root:Found constant value array in batch 783 and channel 0. Normalizing as zeros.\n",
      "WARNING:root:Found constant value array in batch 784 and channel 0. Normalizing as zeros.\n",
      "WARNING:root:Found constant value array in batch 785 and channel 0. Normalizing as zeros.\n",
      "WARNING:root:Found constant value array in batch 786 and channel 0. Normalizing as zeros.\n"
     ]
    },
    {
     "name": "stderr",
     "output_type": "stream",
     "text": [
      "WARNING:root:Found constant value array in batch 787 and channel 0. Normalizing as zeros.\n",
      "WARNING:root:Found constant value array in batch 788 and channel 0. Normalizing as zeros.\n",
      "WARNING:root:Found constant value array in batch 789 and channel 0. Normalizing as zeros.\n",
      "WARNING:root:Found constant value array in batch 790 and channel 0. Normalizing as zeros.\n",
      "WARNING:root:Found constant value array in batch 791 and channel 0. Normalizing as zeros.\n",
      "WARNING:root:Found constant value array in batch 792 and channel 0. Normalizing as zeros.\n",
      "WARNING:root:Found constant value array in batch 793 and channel 0. Normalizing as zeros.\n",
      "WARNING:root:Found constant value array in batch 794 and channel 0. Normalizing as zeros.\n",
      "WARNING:root:Found constant value array in batch 795 and channel 0. Normalizing as zeros.\n",
      "WARNING:root:Found constant value array in batch 796 and channel 0. Normalizing as zeros.\n",
      "WARNING:root:Found constant value array in batch 797 and channel 0. Normalizing as zeros.\n",
      "WARNING:root:Found constant value array in batch 798 and channel 0. Normalizing as zeros.\n",
      "WARNING:root:Found constant value array in batch 799 and channel 0. Normalizing as zeros.\n",
      "WARNING:root:Found constant value array in batch 800 and channel 0. Normalizing as zeros.\n",
      "WARNING:root:Found constant value array in batch 801 and channel 0. Normalizing as zeros.\n",
      "WARNING:root:Found constant value array in batch 802 and channel 0. Normalizing as zeros.\n",
      "WARNING:root:Found constant value array in batch 803 and channel 0. Normalizing as zeros.\n",
      "WARNING:root:Found constant value array in batch 804 and channel 0. Normalizing as zeros.\n",
      "WARNING:root:Found constant value array in batch 805 and channel 0. Normalizing as zeros.\n",
      "WARNING:root:Found constant value array in batch 806 and channel 0. Normalizing as zeros.\n",
      "WARNING:root:Found constant value array in batch 807 and channel 0. Normalizing as zeros.\n",
      "WARNING:root:Found constant value array in batch 808 and channel 0. Normalizing as zeros.\n",
      "WARNING:root:Found constant value array in batch 809 and channel 0. Normalizing as zeros.\n",
      "WARNING:root:Found constant value array in batch 810 and channel 0. Normalizing as zeros.\n",
      "WARNING:root:Found constant value array in batch 811 and channel 0. Normalizing as zeros.\n",
      "WARNING:root:Found constant value array in batch 812 and channel 0. Normalizing as zeros.\n",
      "WARNING:root:Found constant value array in batch 813 and channel 0. Normalizing as zeros.\n",
      "WARNING:root:Found constant value array in batch 814 and channel 0. Normalizing as zeros.\n",
      "WARNING:root:Found constant value array in batch 815 and channel 0. Normalizing as zeros.\n",
      "WARNING:root:Found constant value array in batch 816 and channel 0. Normalizing as zeros.\n",
      "WARNING:root:Found constant value array in batch 817 and channel 0. Normalizing as zeros.\n",
      "WARNING:root:Found constant value array in batch 818 and channel 0. Normalizing as zeros.\n",
      "WARNING:root:Found constant value array in batch 819 and channel 0. Normalizing as zeros.\n",
      "WARNING:root:Found constant value array in batch 820 and channel 0. Normalizing as zeros.\n",
      "WARNING:root:Found constant value array in batch 821 and channel 0. Normalizing as zeros.\n",
      "WARNING:root:Found constant value array in batch 822 and channel 0. Normalizing as zeros.\n",
      "WARNING:root:Found constant value array in batch 823 and channel 0. Normalizing as zeros.\n",
      "WARNING:root:Found constant value array in batch 824 and channel 0. Normalizing as zeros.\n",
      "WARNING:root:Found constant value array in batch 825 and channel 0. Normalizing as zeros.\n",
      "WARNING:root:Found constant value array in batch 826 and channel 0. Normalizing as zeros.\n",
      "WARNING:root:Found constant value array in batch 827 and channel 0. Normalizing as zeros.\n",
      "WARNING:root:Found constant value array in batch 828 and channel 0. Normalizing as zeros.\n",
      "WARNING:root:Found constant value array in batch 829 and channel 0. Normalizing as zeros.\n",
      "WARNING:root:Found constant value array in batch 830 and channel 0. Normalizing as zeros.\n",
      "WARNING:root:Found constant value array in batch 831 and channel 0. Normalizing as zeros.\n",
      "WARNING:root:Found constant value array in batch 832 and channel 0. Normalizing as zeros.\n",
      "WARNING:root:Found constant value array in batch 833 and channel 0. Normalizing as zeros.\n",
      "WARNING:root:Found constant value array in batch 834 and channel 0. Normalizing as zeros.\n",
      "WARNING:root:Found constant value array in batch 835 and channel 0. Normalizing as zeros.\n",
      "WARNING:root:Found constant value array in batch 836 and channel 0. Normalizing as zeros.\n",
      "WARNING:root:Found constant value array in batch 837 and channel 0. Normalizing as zeros.\n",
      "WARNING:root:Found constant value array in batch 838 and channel 0. Normalizing as zeros.\n",
      "WARNING:root:Found constant value array in batch 839 and channel 0. Normalizing as zeros.\n",
      "WARNING:root:Found constant value array in batch 940 and channel 0. Normalizing as zeros.\n",
      "WARNING:root:Found constant value array in batch 941 and channel 0. Normalizing as zeros.\n",
      "WARNING:root:Found constant value array in batch 942 and channel 0. Normalizing as zeros.\n",
      "WARNING:root:Found constant value array in batch 943 and channel 0. Normalizing as zeros.\n",
      "WARNING:root:Found constant value array in batch 944 and channel 0. Normalizing as zeros.\n",
      "WARNING:root:Found constant value array in batch 945 and channel 0. Normalizing as zeros.\n",
      "WARNING:root:Found constant value array in batch 946 and channel 0. Normalizing as zeros.\n",
      "WARNING:root:Found constant value array in batch 947 and channel 0. Normalizing as zeros.\n",
      "WARNING:root:Found constant value array in batch 948 and channel 0. Normalizing as zeros.\n",
      "WARNING:root:Found constant value array in batch 949 and channel 0. Normalizing as zeros.\n",
      "WARNING:root:Found constant value array in batch 950 and channel 0. Normalizing as zeros.\n",
      "WARNING:root:Found constant value array in batch 951 and channel 0. Normalizing as zeros.\n",
      "WARNING:root:Found constant value array in batch 952 and channel 0. Normalizing as zeros.\n",
      "WARNING:root:Found constant value array in batch 953 and channel 0. Normalizing as zeros.\n",
      "WARNING:root:Found constant value array in batch 954 and channel 0. Normalizing as zeros.\n",
      "WARNING:root:Found constant value array in batch 955 and channel 0. Normalizing as zeros.\n",
      "WARNING:root:Found constant value array in batch 956 and channel 0. Normalizing as zeros.\n",
      "WARNING:root:Found constant value array in batch 957 and channel 0. Normalizing as zeros.\n",
      "WARNING:root:Found constant value array in batch 958 and channel 0. Normalizing as zeros.\n",
      "WARNING:root:Found constant value array in batch 959 and channel 0. Normalizing as zeros.\n",
      "WARNING:root:Found constant value array in batch 960 and channel 0. Normalizing as zeros.\n",
      "WARNING:root:Found constant value array in batch 961 and channel 0. Normalizing as zeros.\n",
      "WARNING:root:Found constant value array in batch 962 and channel 0. Normalizing as zeros.\n",
      "WARNING:root:Found constant value array in batch 963 and channel 0. Normalizing as zeros.\n",
      "WARNING:root:Found constant value array in batch 964 and channel 0. Normalizing as zeros.\n",
      "WARNING:root:Found constant value array in batch 965 and channel 0. Normalizing as zeros.\n",
      "WARNING:root:Found constant value array in batch 966 and channel 0. Normalizing as zeros.\n",
      "WARNING:root:Found constant value array in batch 967 and channel 0. Normalizing as zeros.\n",
      "WARNING:root:Found constant value array in batch 968 and channel 0. Normalizing as zeros.\n",
      "WARNING:root:Found constant value array in batch 969 and channel 0. Normalizing as zeros.\n",
      "WARNING:root:Found constant value array in batch 970 and channel 0. Normalizing as zeros.\n",
      "WARNING:root:Found constant value array in batch 971 and channel 0. Normalizing as zeros.\n",
      "WARNING:root:Found constant value array in batch 972 and channel 0. Normalizing as zeros.\n",
      "WARNING:root:Found constant value array in batch 973 and channel 0. Normalizing as zeros.\n",
      "WARNING:root:Found constant value array in batch 974 and channel 0. Normalizing as zeros.\n",
      "WARNING:root:Found constant value array in batch 975 and channel 0. Normalizing as zeros.\n",
      "WARNING:root:Found constant value array in batch 976 and channel 0. Normalizing as zeros.\n",
      "WARNING:root:Found constant value array in batch 977 and channel 0. Normalizing as zeros.\n",
      "WARNING:root:Found constant value array in batch 978 and channel 0. Normalizing as zeros.\n"
     ]
    },
    {
     "name": "stderr",
     "output_type": "stream",
     "text": [
      "WARNING:root:Found constant value array in batch 979 and channel 0. Normalizing as zeros.\n",
      "WARNING:root:Found constant value array in batch 980 and channel 0. Normalizing as zeros.\n",
      "WARNING:root:Found constant value array in batch 981 and channel 0. Normalizing as zeros.\n",
      "WARNING:root:Found constant value array in batch 982 and channel 0. Normalizing as zeros.\n",
      "WARNING:root:Found constant value array in batch 983 and channel 0. Normalizing as zeros.\n",
      "WARNING:root:Found constant value array in batch 984 and channel 0. Normalizing as zeros.\n",
      "WARNING:root:Found constant value array in batch 985 and channel 0. Normalizing as zeros.\n",
      "WARNING:root:Found constant value array in batch 986 and channel 0. Normalizing as zeros.\n",
      "WARNING:root:Found constant value array in batch 987 and channel 0. Normalizing as zeros.\n",
      "WARNING:root:Found constant value array in batch 988 and channel 0. Normalizing as zeros.\n",
      "WARNING:root:Found constant value array in batch 989 and channel 0. Normalizing as zeros.\n",
      "WARNING:root:Found constant value array in batch 990 and channel 0. Normalizing as zeros.\n",
      "WARNING:root:Found constant value array in batch 991 and channel 0. Normalizing as zeros.\n",
      "WARNING:root:Found constant value array in batch 992 and channel 0. Normalizing as zeros.\n",
      "WARNING:root:Found constant value array in batch 993 and channel 0. Normalizing as zeros.\n",
      "WARNING:root:Found constant value array in batch 994 and channel 0. Normalizing as zeros.\n",
      "WARNING:root:Found constant value array in batch 995 and channel 0. Normalizing as zeros.\n",
      "WARNING:root:Found constant value array in batch 996 and channel 0. Normalizing as zeros.\n",
      "WARNING:root:Found constant value array in batch 997 and channel 0. Normalizing as zeros.\n",
      "WARNING:root:Found constant value array in batch 998 and channel 0. Normalizing as zeros.\n",
      "WARNING:root:Found constant value array in batch 999 and channel 0. Normalizing as zeros.\n",
      "WARNING:root:Found constant value array in batch 1000 and channel 0. Normalizing as zeros.\n",
      "WARNING:root:Found constant value array in batch 1001 and channel 0. Normalizing as zeros.\n",
      "WARNING:root:Found constant value array in batch 1002 and channel 0. Normalizing as zeros.\n",
      "WARNING:root:Found constant value array in batch 1003 and channel 0. Normalizing as zeros.\n",
      "WARNING:root:Found constant value array in batch 1004 and channel 0. Normalizing as zeros.\n",
      "WARNING:root:Found constant value array in batch 1005 and channel 0. Normalizing as zeros.\n",
      "WARNING:root:Found constant value array in batch 1006 and channel 0. Normalizing as zeros.\n",
      "WARNING:root:Found constant value array in batch 1007 and channel 0. Normalizing as zeros.\n",
      "WARNING:root:Found constant value array in batch 1110 and channel 0. Normalizing as zeros.\n",
      "WARNING:root:Found constant value array in batch 1111 and channel 0. Normalizing as zeros.\n",
      "WARNING:root:Found constant value array in batch 1112 and channel 0. Normalizing as zeros.\n",
      "WARNING:root:Found constant value array in batch 1113 and channel 0. Normalizing as zeros.\n",
      "WARNING:root:Found constant value array in batch 1114 and channel 0. Normalizing as zeros.\n",
      "WARNING:root:Found constant value array in batch 1115 and channel 0. Normalizing as zeros.\n",
      "WARNING:root:Found constant value array in batch 1116 and channel 0. Normalizing as zeros.\n",
      "WARNING:root:Found constant value array in batch 1117 and channel 0. Normalizing as zeros.\n",
      "WARNING:root:Found constant value array in batch 1118 and channel 0. Normalizing as zeros.\n",
      "WARNING:root:Found constant value array in batch 1119 and channel 0. Normalizing as zeros.\n",
      "WARNING:root:Found constant value array in batch 1120 and channel 0. Normalizing as zeros.\n",
      "WARNING:root:Found constant value array in batch 1121 and channel 0. Normalizing as zeros.\n",
      "WARNING:root:Found constant value array in batch 1122 and channel 0. Normalizing as zeros.\n",
      "WARNING:root:Found constant value array in batch 1123 and channel 0. Normalizing as zeros.\n",
      "WARNING:root:Found constant value array in batch 1124 and channel 0. Normalizing as zeros.\n",
      "WARNING:root:Found constant value array in batch 1125 and channel 0. Normalizing as zeros.\n",
      "WARNING:root:Found constant value array in batch 1126 and channel 0. Normalizing as zeros.\n",
      "WARNING:root:Found constant value array in batch 1127 and channel 0. Normalizing as zeros.\n",
      "WARNING:root:Found constant value array in batch 1128 and channel 0. Normalizing as zeros.\n",
      "WARNING:root:Found constant value array in batch 1129 and channel 0. Normalizing as zeros.\n",
      "WARNING:root:Found constant value array in batch 1130 and channel 0. Normalizing as zeros.\n",
      "WARNING:root:Found constant value array in batch 1131 and channel 0. Normalizing as zeros.\n",
      "WARNING:root:Found constant value array in batch 1132 and channel 0. Normalizing as zeros.\n",
      "WARNING:root:Found constant value array in batch 1133 and channel 0. Normalizing as zeros.\n",
      "WARNING:root:Found constant value array in batch 1134 and channel 0. Normalizing as zeros.\n",
      "WARNING:root:Found constant value array in batch 1135 and channel 0. Normalizing as zeros.\n",
      "WARNING:root:Found constant value array in batch 1136 and channel 0. Normalizing as zeros.\n",
      "WARNING:root:Found constant value array in batch 1137 and channel 0. Normalizing as zeros.\n",
      "WARNING:root:Found constant value array in batch 1138 and channel 0. Normalizing as zeros.\n",
      "WARNING:root:Found constant value array in batch 1139 and channel 0. Normalizing as zeros.\n",
      "WARNING:root:Found constant value array in batch 1140 and channel 0. Normalizing as zeros.\n",
      "WARNING:root:Found constant value array in batch 1141 and channel 0. Normalizing as zeros.\n",
      "WARNING:root:Found constant value array in batch 1142 and channel 0. Normalizing as zeros.\n",
      "WARNING:root:Found constant value array in batch 1143 and channel 0. Normalizing as zeros.\n",
      "WARNING:root:Found constant value array in batch 1144 and channel 0. Normalizing as zeros.\n",
      "WARNING:root:Found constant value array in batch 1145 and channel 0. Normalizing as zeros.\n",
      "WARNING:root:Found constant value array in batch 1146 and channel 0. Normalizing as zeros.\n",
      "WARNING:root:Found constant value array in batch 1147 and channel 0. Normalizing as zeros.\n",
      "WARNING:root:Found constant value array in batch 1148 and channel 0. Normalizing as zeros.\n",
      "WARNING:root:Found constant value array in batch 1149 and channel 0. Normalizing as zeros.\n",
      "WARNING:root:Found constant value array in batch 1150 and channel 0. Normalizing as zeros.\n",
      "WARNING:root:Found constant value array in batch 1151 and channel 0. Normalizing as zeros.\n",
      "WARNING:root:Found constant value array in batch 1152 and channel 0. Normalizing as zeros.\n",
      "WARNING:root:Found constant value array in batch 1153 and channel 0. Normalizing as zeros.\n",
      "WARNING:root:Found constant value array in batch 1154 and channel 0. Normalizing as zeros.\n",
      "WARNING:root:Found constant value array in batch 1155 and channel 0. Normalizing as zeros.\n",
      "WARNING:root:Found constant value array in batch 1156 and channel 0. Normalizing as zeros.\n",
      "WARNING:root:Found constant value array in batch 1157 and channel 0. Normalizing as zeros.\n",
      "WARNING:root:Found constant value array in batch 1158 and channel 0. Normalizing as zeros.\n",
      "WARNING:root:Found constant value array in batch 1159 and channel 0. Normalizing as zeros.\n",
      "WARNING:root:Found constant value array in batch 1160 and channel 0. Normalizing as zeros.\n",
      "WARNING:root:Found constant value array in batch 1161 and channel 0. Normalizing as zeros.\n",
      "WARNING:root:Found constant value array in batch 1162 and channel 0. Normalizing as zeros.\n",
      "WARNING:root:Found constant value array in batch 1163 and channel 0. Normalizing as zeros.\n",
      "WARNING:root:Found constant value array in batch 1164 and channel 0. Normalizing as zeros.\n",
      "WARNING:root:Found constant value array in batch 1165 and channel 0. Normalizing as zeros.\n",
      "WARNING:root:Found constant value array in batch 1166 and channel 0. Normalizing as zeros.\n",
      "WARNING:root:Found constant value array in batch 1167 and channel 0. Normalizing as zeros.\n",
      "WARNING:root:Found constant value array in batch 1168 and channel 0. Normalizing as zeros.\n",
      "WARNING:root:Found constant value array in batch 1169 and channel 0. Normalizing as zeros.\n",
      "WARNING:root:Found constant value array in batch 1170 and channel 0. Normalizing as zeros.\n",
      "WARNING:root:Found constant value array in batch 1171 and channel 0. Normalizing as zeros.\n"
     ]
    },
    {
     "name": "stderr",
     "output_type": "stream",
     "text": [
      "WARNING:root:Found constant value array in batch 1172 and channel 0. Normalizing as zeros.\n",
      "WARNING:root:Found constant value array in batch 1173 and channel 0. Normalizing as zeros.\n",
      "WARNING:root:Found constant value array in batch 1174 and channel 0. Normalizing as zeros.\n",
      "WARNING:root:Found constant value array in batch 1175 and channel 0. Normalizing as zeros.\n",
      "WARNING:root:Found constant value array in batch 1270 and channel 0. Normalizing as zeros.\n",
      "WARNING:root:Found constant value array in batch 1271 and channel 0. Normalizing as zeros.\n",
      "WARNING:root:Found constant value array in batch 1272 and channel 0. Normalizing as zeros.\n",
      "WARNING:root:Found constant value array in batch 1273 and channel 0. Normalizing as zeros.\n",
      "WARNING:root:Found constant value array in batch 1274 and channel 0. Normalizing as zeros.\n",
      "WARNING:root:Found constant value array in batch 1275 and channel 0. Normalizing as zeros.\n",
      "WARNING:root:Found constant value array in batch 1276 and channel 0. Normalizing as zeros.\n",
      "WARNING:root:Found constant value array in batch 1277 and channel 0. Normalizing as zeros.\n",
      "WARNING:root:Found constant value array in batch 1278 and channel 0. Normalizing as zeros.\n",
      "WARNING:root:Found constant value array in batch 1279 and channel 0. Normalizing as zeros.\n",
      "WARNING:root:Found constant value array in batch 1280 and channel 0. Normalizing as zeros.\n",
      "WARNING:root:Found constant value array in batch 1281 and channel 0. Normalizing as zeros.\n",
      "WARNING:root:Found constant value array in batch 1282 and channel 0. Normalizing as zeros.\n",
      "WARNING:root:Found constant value array in batch 1283 and channel 0. Normalizing as zeros.\n",
      "WARNING:root:Found constant value array in batch 1284 and channel 0. Normalizing as zeros.\n",
      "WARNING:root:Found constant value array in batch 1285 and channel 0. Normalizing as zeros.\n",
      "WARNING:root:Found constant value array in batch 1286 and channel 0. Normalizing as zeros.\n",
      "WARNING:root:Found constant value array in batch 1287 and channel 0. Normalizing as zeros.\n",
      "WARNING:root:Found constant value array in batch 1288 and channel 0. Normalizing as zeros.\n",
      "WARNING:root:Found constant value array in batch 1289 and channel 0. Normalizing as zeros.\n",
      "WARNING:root:Found constant value array in batch 1290 and channel 0. Normalizing as zeros.\n",
      "WARNING:root:Found constant value array in batch 1291 and channel 0. Normalizing as zeros.\n",
      "WARNING:root:Found constant value array in batch 1292 and channel 0. Normalizing as zeros.\n",
      "WARNING:root:Found constant value array in batch 1293 and channel 0. Normalizing as zeros.\n",
      "WARNING:root:Found constant value array in batch 1294 and channel 0. Normalizing as zeros.\n",
      "WARNING:root:Found constant value array in batch 1295 and channel 0. Normalizing as zeros.\n",
      "WARNING:root:Found constant value array in batch 1296 and channel 0. Normalizing as zeros.\n",
      "WARNING:root:Found constant value array in batch 1297 and channel 0. Normalizing as zeros.\n",
      "WARNING:root:Found constant value array in batch 1298 and channel 0. Normalizing as zeros.\n",
      "WARNING:root:Found constant value array in batch 1299 and channel 0. Normalizing as zeros.\n",
      "WARNING:root:Found constant value array in batch 1300 and channel 0. Normalizing as zeros.\n",
      "WARNING:root:Found constant value array in batch 1301 and channel 0. Normalizing as zeros.\n",
      "WARNING:root:Found constant value array in batch 1302 and channel 0. Normalizing as zeros.\n",
      "WARNING:root:Found constant value array in batch 1303 and channel 0. Normalizing as zeros.\n",
      "WARNING:root:Found constant value array in batch 1304 and channel 0. Normalizing as zeros.\n",
      "WARNING:root:Found constant value array in batch 1305 and channel 0. Normalizing as zeros.\n",
      "WARNING:root:Found constant value array in batch 1306 and channel 0. Normalizing as zeros.\n",
      "WARNING:root:Found constant value array in batch 1307 and channel 0. Normalizing as zeros.\n",
      "WARNING:root:Found constant value array in batch 1308 and channel 0. Normalizing as zeros.\n",
      "WARNING:root:Found constant value array in batch 1309 and channel 0. Normalizing as zeros.\n",
      "WARNING:root:Found constant value array in batch 1310 and channel 0. Normalizing as zeros.\n",
      "WARNING:root:Found constant value array in batch 1311 and channel 0. Normalizing as zeros.\n",
      "WARNING:root:Found constant value array in batch 1312 and channel 0. Normalizing as zeros.\n",
      "WARNING:root:Found constant value array in batch 1313 and channel 0. Normalizing as zeros.\n",
      "WARNING:root:Found constant value array in batch 1314 and channel 0. Normalizing as zeros.\n",
      "WARNING:root:Found constant value array in batch 1315 and channel 0. Normalizing as zeros.\n",
      "WARNING:root:Found constant value array in batch 1316 and channel 0. Normalizing as zeros.\n",
      "WARNING:root:Found constant value array in batch 1317 and channel 0. Normalizing as zeros.\n",
      "WARNING:root:Found constant value array in batch 1318 and channel 0. Normalizing as zeros.\n",
      "WARNING:root:Found constant value array in batch 1319 and channel 0. Normalizing as zeros.\n",
      "WARNING:root:Found constant value array in batch 1320 and channel 0. Normalizing as zeros.\n",
      "WARNING:root:Found constant value array in batch 1321 and channel 0. Normalizing as zeros.\n",
      "WARNING:root:Found constant value array in batch 1322 and channel 0. Normalizing as zeros.\n",
      "WARNING:root:Found constant value array in batch 1323 and channel 0. Normalizing as zeros.\n",
      "WARNING:root:Found constant value array in batch 1324 and channel 0. Normalizing as zeros.\n",
      "WARNING:root:Found constant value array in batch 1325 and channel 0. Normalizing as zeros.\n",
      "WARNING:root:Found constant value array in batch 1326 and channel 0. Normalizing as zeros.\n",
      "WARNING:root:Found constant value array in batch 1327 and channel 0. Normalizing as zeros.\n",
      "WARNING:root:Found constant value array in batch 1328 and channel 0. Normalizing as zeros.\n",
      "WARNING:root:Found constant value array in batch 1329 and channel 0. Normalizing as zeros.\n",
      "WARNING:root:Found constant value array in batch 1330 and channel 0. Normalizing as zeros.\n",
      "WARNING:root:Found constant value array in batch 1331 and channel 0. Normalizing as zeros.\n",
      "WARNING:root:Found constant value array in batch 1332 and channel 0. Normalizing as zeros.\n",
      "WARNING:root:Found constant value array in batch 1333 and channel 0. Normalizing as zeros.\n",
      "WARNING:root:Found constant value array in batch 1334 and channel 0. Normalizing as zeros.\n",
      "WARNING:root:Found constant value array in batch 1335 and channel 0. Normalizing as zeros.\n",
      "WARNING:root:Found constant value array in batch 1336 and channel 0. Normalizing as zeros.\n",
      "WARNING:root:Found constant value array in batch 1337 and channel 0. Normalizing as zeros.\n",
      "WARNING:root:Found constant value array in batch 1338 and channel 0. Normalizing as zeros.\n",
      "WARNING:root:Found constant value array in batch 1339 and channel 0. Normalizing as zeros.\n",
      "WARNING:root:Found constant value array in batch 1340 and channel 0. Normalizing as zeros.\n",
      "WARNING:root:Found constant value array in batch 1341 and channel 0. Normalizing as zeros.\n",
      "WARNING:root:Found constant value array in batch 1342 and channel 0. Normalizing as zeros.\n",
      "WARNING:root:Found constant value array in batch 1343 and channel 0. Normalizing as zeros.\n",
      "WARNING:root:Found constant value array in batch 1420 and channel 0. Normalizing as zeros.\n",
      "WARNING:root:Found constant value array in batch 1421 and channel 0. Normalizing as zeros.\n",
      "WARNING:root:Found constant value array in batch 1422 and channel 0. Normalizing as zeros.\n",
      "WARNING:root:Found constant value array in batch 1423 and channel 0. Normalizing as zeros.\n",
      "WARNING:root:Found constant value array in batch 1424 and channel 0. Normalizing as zeros.\n",
      "WARNING:root:Found constant value array in batch 1425 and channel 0. Normalizing as zeros.\n",
      "WARNING:root:Found constant value array in batch 1426 and channel 0. Normalizing as zeros.\n",
      "WARNING:root:Found constant value array in batch 1427 and channel 0. Normalizing as zeros.\n",
      "WARNING:root:Found constant value array in batch 1428 and channel 0. Normalizing as zeros.\n",
      "WARNING:root:Found constant value array in batch 1429 and channel 0. Normalizing as zeros.\n",
      "WARNING:root:Found constant value array in batch 1430 and channel 0. Normalizing as zeros.\n",
      "WARNING:root:Found constant value array in batch 1431 and channel 0. Normalizing as zeros.\n",
      "WARNING:root:Found constant value array in batch 1432 and channel 0. Normalizing as zeros.\n"
     ]
    },
    {
     "name": "stderr",
     "output_type": "stream",
     "text": [
      "WARNING:root:Found constant value array in batch 1433 and channel 0. Normalizing as zeros.\n",
      "WARNING:root:Found constant value array in batch 1434 and channel 0. Normalizing as zeros.\n",
      "WARNING:root:Found constant value array in batch 1435 and channel 0. Normalizing as zeros.\n",
      "WARNING:root:Found constant value array in batch 1436 and channel 0. Normalizing as zeros.\n",
      "WARNING:root:Found constant value array in batch 1437 and channel 0. Normalizing as zeros.\n",
      "WARNING:root:Found constant value array in batch 1438 and channel 0. Normalizing as zeros.\n",
      "WARNING:root:Found constant value array in batch 1439 and channel 0. Normalizing as zeros.\n",
      "WARNING:root:Found constant value array in batch 1440 and channel 0. Normalizing as zeros.\n",
      "WARNING:root:Found constant value array in batch 1441 and channel 0. Normalizing as zeros.\n",
      "WARNING:root:Found constant value array in batch 1442 and channel 0. Normalizing as zeros.\n",
      "WARNING:root:Found constant value array in batch 1443 and channel 0. Normalizing as zeros.\n",
      "WARNING:root:Found constant value array in batch 1444 and channel 0. Normalizing as zeros.\n",
      "WARNING:root:Found constant value array in batch 1445 and channel 0. Normalizing as zeros.\n",
      "WARNING:root:Found constant value array in batch 1446 and channel 0. Normalizing as zeros.\n",
      "WARNING:root:Found constant value array in batch 1447 and channel 0. Normalizing as zeros.\n",
      "WARNING:root:Found constant value array in batch 1448 and channel 0. Normalizing as zeros.\n",
      "WARNING:root:Found constant value array in batch 1449 and channel 0. Normalizing as zeros.\n",
      "WARNING:root:Found constant value array in batch 1450 and channel 0. Normalizing as zeros.\n",
      "WARNING:root:Found constant value array in batch 1451 and channel 0. Normalizing as zeros.\n",
      "WARNING:root:Found constant value array in batch 1452 and channel 0. Normalizing as zeros.\n",
      "WARNING:root:Found constant value array in batch 1453 and channel 0. Normalizing as zeros.\n",
      "WARNING:root:Found constant value array in batch 1454 and channel 0. Normalizing as zeros.\n",
      "WARNING:root:Found constant value array in batch 1455 and channel 0. Normalizing as zeros.\n",
      "WARNING:root:Found constant value array in batch 1456 and channel 0. Normalizing as zeros.\n",
      "WARNING:root:Found constant value array in batch 1457 and channel 0. Normalizing as zeros.\n",
      "WARNING:root:Found constant value array in batch 1458 and channel 0. Normalizing as zeros.\n",
      "WARNING:root:Found constant value array in batch 1459 and channel 0. Normalizing as zeros.\n",
      "WARNING:root:Found constant value array in batch 1460 and channel 0. Normalizing as zeros.\n",
      "WARNING:root:Found constant value array in batch 1461 and channel 0. Normalizing as zeros.\n",
      "WARNING:root:Found constant value array in batch 1462 and channel 0. Normalizing as zeros.\n",
      "WARNING:root:Found constant value array in batch 1463 and channel 0. Normalizing as zeros.\n",
      "WARNING:root:Found constant value array in batch 1464 and channel 0. Normalizing as zeros.\n",
      "WARNING:root:Found constant value array in batch 1465 and channel 0. Normalizing as zeros.\n",
      "WARNING:root:Found constant value array in batch 1466 and channel 0. Normalizing as zeros.\n",
      "WARNING:root:Found constant value array in batch 1467 and channel 0. Normalizing as zeros.\n",
      "WARNING:root:Found constant value array in batch 1468 and channel 0. Normalizing as zeros.\n",
      "WARNING:root:Found constant value array in batch 1469 and channel 0. Normalizing as zeros.\n",
      "WARNING:root:Found constant value array in batch 1470 and channel 0. Normalizing as zeros.\n",
      "WARNING:root:Found constant value array in batch 1471 and channel 0. Normalizing as zeros.\n",
      "WARNING:root:Found constant value array in batch 1472 and channel 0. Normalizing as zeros.\n",
      "WARNING:root:Found constant value array in batch 1473 and channel 0. Normalizing as zeros.\n",
      "WARNING:root:Found constant value array in batch 1474 and channel 0. Normalizing as zeros.\n",
      "WARNING:root:Found constant value array in batch 1475 and channel 0. Normalizing as zeros.\n",
      "WARNING:root:Found constant value array in batch 1476 and channel 0. Normalizing as zeros.\n",
      "WARNING:root:Found constant value array in batch 1477 and channel 0. Normalizing as zeros.\n",
      "WARNING:root:Found constant value array in batch 1478 and channel 0. Normalizing as zeros.\n",
      "WARNING:root:Found constant value array in batch 1479 and channel 0. Normalizing as zeros.\n",
      "WARNING:root:Found constant value array in batch 1480 and channel 0. Normalizing as zeros.\n",
      "WARNING:root:Found constant value array in batch 1481 and channel 0. Normalizing as zeros.\n",
      "WARNING:root:Found constant value array in batch 1482 and channel 0. Normalizing as zeros.\n",
      "WARNING:root:Found constant value array in batch 1483 and channel 0. Normalizing as zeros.\n",
      "WARNING:root:Found constant value array in batch 1484 and channel 0. Normalizing as zeros.\n",
      "WARNING:root:Found constant value array in batch 1485 and channel 0. Normalizing as zeros.\n",
      "WARNING:root:Found constant value array in batch 1486 and channel 0. Normalizing as zeros.\n",
      "WARNING:root:Found constant value array in batch 1487 and channel 0. Normalizing as zeros.\n",
      "WARNING:root:Found constant value array in batch 1488 and channel 0. Normalizing as zeros.\n",
      "WARNING:root:Found constant value array in batch 1489 and channel 0. Normalizing as zeros.\n",
      "WARNING:root:Found constant value array in batch 1490 and channel 0. Normalizing as zeros.\n",
      "WARNING:root:Found constant value array in batch 1491 and channel 0. Normalizing as zeros.\n",
      "WARNING:root:Found constant value array in batch 1492 and channel 0. Normalizing as zeros.\n",
      "WARNING:root:Found constant value array in batch 1493 and channel 0. Normalizing as zeros.\n",
      "WARNING:root:Found constant value array in batch 1494 and channel 0. Normalizing as zeros.\n",
      "WARNING:root:Found constant value array in batch 1495 and channel 0. Normalizing as zeros.\n",
      "WARNING:root:Found constant value array in batch 1496 and channel 0. Normalizing as zeros.\n",
      "WARNING:root:Found constant value array in batch 1497 and channel 0. Normalizing as zeros.\n",
      "WARNING:root:Found constant value array in batch 1498 and channel 0. Normalizing as zeros.\n",
      "WARNING:root:Found constant value array in batch 1499 and channel 0. Normalizing as zeros.\n",
      "WARNING:root:Found constant value array in batch 1500 and channel 0. Normalizing as zeros.\n",
      "WARNING:root:Found constant value array in batch 1501 and channel 0. Normalizing as zeros.\n",
      "WARNING:root:Found constant value array in batch 1502 and channel 0. Normalizing as zeros.\n",
      "WARNING:root:Found constant value array in batch 1503 and channel 0. Normalizing as zeros.\n",
      "WARNING:root:Found constant value array in batch 1504 and channel 0. Normalizing as zeros.\n",
      "WARNING:root:Found constant value array in batch 1505 and channel 0. Normalizing as zeros.\n",
      "WARNING:root:Found constant value array in batch 1506 and channel 0. Normalizing as zeros.\n",
      "WARNING:root:Found constant value array in batch 1507 and channel 0. Normalizing as zeros.\n",
      "WARNING:root:Found constant value array in batch 1508 and channel 0. Normalizing as zeros.\n",
      "WARNING:root:Found constant value array in batch 1509 and channel 0. Normalizing as zeros.\n",
      "WARNING:root:Found constant value array in batch 1510 and channel 0. Normalizing as zeros.\n",
      "WARNING:root:Found constant value array in batch 1511 and channel 0. Normalizing as zeros.\n",
      "WARNING:root:Found constant value array in batch 1619 and channel 0. Normalizing as zeros.\n",
      "WARNING:root:Found constant value array in batch 1620 and channel 0. Normalizing as zeros.\n",
      "WARNING:root:Found constant value array in batch 1621 and channel 0. Normalizing as zeros.\n",
      "WARNING:root:Found constant value array in batch 1622 and channel 0. Normalizing as zeros.\n",
      "WARNING:root:Found constant value array in batch 1623 and channel 0. Normalizing as zeros.\n",
      "WARNING:root:Found constant value array in batch 1624 and channel 0. Normalizing as zeros.\n",
      "WARNING:root:Found constant value array in batch 1625 and channel 0. Normalizing as zeros.\n",
      "WARNING:root:Found constant value array in batch 1626 and channel 0. Normalizing as zeros.\n",
      "WARNING:root:Found constant value array in batch 1627 and channel 0. Normalizing as zeros.\n",
      "WARNING:root:Found constant value array in batch 1628 and channel 0. Normalizing as zeros.\n",
      "WARNING:root:Found constant value array in batch 1629 and channel 0. Normalizing as zeros.\n",
      "WARNING:root:Found constant value array in batch 1630 and channel 0. Normalizing as zeros.\n"
     ]
    },
    {
     "name": "stderr",
     "output_type": "stream",
     "text": [
      "WARNING:root:Found constant value array in batch 1631 and channel 0. Normalizing as zeros.\n",
      "WARNING:root:Found constant value array in batch 1632 and channel 0. Normalizing as zeros.\n",
      "WARNING:root:Found constant value array in batch 1633 and channel 0. Normalizing as zeros.\n",
      "WARNING:root:Found constant value array in batch 1634 and channel 0. Normalizing as zeros.\n",
      "WARNING:root:Found constant value array in batch 1635 and channel 0. Normalizing as zeros.\n",
      "WARNING:root:Found constant value array in batch 1636 and channel 0. Normalizing as zeros.\n",
      "WARNING:root:Found constant value array in batch 1637 and channel 0. Normalizing as zeros.\n",
      "WARNING:root:Found constant value array in batch 1638 and channel 0. Normalizing as zeros.\n",
      "WARNING:root:Found constant value array in batch 1639 and channel 0. Normalizing as zeros.\n",
      "WARNING:root:Found constant value array in batch 1640 and channel 0. Normalizing as zeros.\n",
      "WARNING:root:Found constant value array in batch 1641 and channel 0. Normalizing as zeros.\n",
      "WARNING:root:Found constant value array in batch 1642 and channel 0. Normalizing as zeros.\n",
      "WARNING:root:Found constant value array in batch 1643 and channel 0. Normalizing as zeros.\n",
      "WARNING:root:Found constant value array in batch 1644 and channel 0. Normalizing as zeros.\n",
      "WARNING:root:Found constant value array in batch 1645 and channel 0. Normalizing as zeros.\n",
      "WARNING:root:Found constant value array in batch 1646 and channel 0. Normalizing as zeros.\n",
      "WARNING:root:Found constant value array in batch 1647 and channel 0. Normalizing as zeros.\n",
      "WARNING:root:Found constant value array in batch 1648 and channel 0. Normalizing as zeros.\n",
      "WARNING:root:Found constant value array in batch 1649 and channel 0. Normalizing as zeros.\n",
      "WARNING:root:Found constant value array in batch 1650 and channel 0. Normalizing as zeros.\n",
      "WARNING:root:Found constant value array in batch 1651 and channel 0. Normalizing as zeros.\n",
      "WARNING:root:Found constant value array in batch 1652 and channel 0. Normalizing as zeros.\n",
      "WARNING:root:Found constant value array in batch 1653 and channel 0. Normalizing as zeros.\n",
      "WARNING:root:Found constant value array in batch 1654 and channel 0. Normalizing as zeros.\n",
      "WARNING:root:Found constant value array in batch 1655 and channel 0. Normalizing as zeros.\n",
      "WARNING:root:Found constant value array in batch 1656 and channel 0. Normalizing as zeros.\n",
      "WARNING:root:Found constant value array in batch 1657 and channel 0. Normalizing as zeros.\n",
      "WARNING:root:Found constant value array in batch 1658 and channel 0. Normalizing as zeros.\n",
      "WARNING:root:Found constant value array in batch 1659 and channel 0. Normalizing as zeros.\n",
      "WARNING:root:Found constant value array in batch 1660 and channel 0. Normalizing as zeros.\n",
      "WARNING:root:Found constant value array in batch 1661 and channel 0. Normalizing as zeros.\n",
      "WARNING:root:Found constant value array in batch 1662 and channel 0. Normalizing as zeros.\n",
      "WARNING:root:Found constant value array in batch 1663 and channel 0. Normalizing as zeros.\n",
      "WARNING:root:Found constant value array in batch 1664 and channel 0. Normalizing as zeros.\n",
      "WARNING:root:Found constant value array in batch 1665 and channel 0. Normalizing as zeros.\n",
      "WARNING:root:Found constant value array in batch 1666 and channel 0. Normalizing as zeros.\n",
      "WARNING:root:Found constant value array in batch 1667 and channel 0. Normalizing as zeros.\n",
      "WARNING:root:Found constant value array in batch 1668 and channel 0. Normalizing as zeros.\n",
      "WARNING:root:Found constant value array in batch 1669 and channel 0. Normalizing as zeros.\n",
      "WARNING:root:Found constant value array in batch 1670 and channel 0. Normalizing as zeros.\n",
      "WARNING:root:Found constant value array in batch 1671 and channel 0. Normalizing as zeros.\n",
      "WARNING:root:Found constant value array in batch 1672 and channel 0. Normalizing as zeros.\n",
      "WARNING:root:Found constant value array in batch 1673 and channel 0. Normalizing as zeros.\n",
      "WARNING:root:Found constant value array in batch 1674 and channel 0. Normalizing as zeros.\n",
      "WARNING:root:Found constant value array in batch 1675 and channel 0. Normalizing as zeros.\n",
      "WARNING:root:Found constant value array in batch 1676 and channel 0. Normalizing as zeros.\n",
      "WARNING:root:Found constant value array in batch 1677 and channel 0. Normalizing as zeros.\n",
      "WARNING:root:Found constant value array in batch 1678 and channel 0. Normalizing as zeros.\n",
      "WARNING:root:Found constant value array in batch 1679 and channel 0. Normalizing as zeros.\n",
      "WARNING:root:Found constant value array in batch 1812 and channel 0. Normalizing as zeros.\n",
      "WARNING:root:Found constant value array in batch 1813 and channel 0. Normalizing as zeros.\n",
      "WARNING:root:Found constant value array in batch 1814 and channel 0. Normalizing as zeros.\n",
      "WARNING:root:Found constant value array in batch 1815 and channel 0. Normalizing as zeros.\n",
      "WARNING:root:Found constant value array in batch 1816 and channel 0. Normalizing as zeros.\n",
      "WARNING:root:Found constant value array in batch 1817 and channel 0. Normalizing as zeros.\n",
      "WARNING:root:Found constant value array in batch 1818 and channel 0. Normalizing as zeros.\n",
      "WARNING:root:Found constant value array in batch 1819 and channel 0. Normalizing as zeros.\n",
      "WARNING:root:Found constant value array in batch 1820 and channel 0. Normalizing as zeros.\n",
      "WARNING:root:Found constant value array in batch 1821 and channel 0. Normalizing as zeros.\n",
      "WARNING:root:Found constant value array in batch 1822 and channel 0. Normalizing as zeros.\n",
      "WARNING:root:Found constant value array in batch 1823 and channel 0. Normalizing as zeros.\n",
      "WARNING:root:Found constant value array in batch 1824 and channel 0. Normalizing as zeros.\n",
      "WARNING:root:Found constant value array in batch 1825 and channel 0. Normalizing as zeros.\n",
      "WARNING:root:Found constant value array in batch 1826 and channel 0. Normalizing as zeros.\n",
      "WARNING:root:Found constant value array in batch 1827 and channel 0. Normalizing as zeros.\n",
      "WARNING:root:Found constant value array in batch 1828 and channel 0. Normalizing as zeros.\n",
      "WARNING:root:Found constant value array in batch 1829 and channel 0. Normalizing as zeros.\n",
      "WARNING:root:Found constant value array in batch 1830 and channel 0. Normalizing as zeros.\n",
      "WARNING:root:Found constant value array in batch 1831 and channel 0. Normalizing as zeros.\n",
      "WARNING:root:Found constant value array in batch 1832 and channel 0. Normalizing as zeros.\n",
      "WARNING:root:Found constant value array in batch 1833 and channel 0. Normalizing as zeros.\n",
      "WARNING:root:Found constant value array in batch 1834 and channel 0. Normalizing as zeros.\n",
      "WARNING:root:Found constant value array in batch 1835 and channel 0. Normalizing as zeros.\n",
      "WARNING:root:Found constant value array in batch 1836 and channel 0. Normalizing as zeros.\n",
      "WARNING:root:Found constant value array in batch 1837 and channel 0. Normalizing as zeros.\n",
      "WARNING:root:Found constant value array in batch 1838 and channel 0. Normalizing as zeros.\n",
      "WARNING:root:Found constant value array in batch 1839 and channel 0. Normalizing as zeros.\n",
      "WARNING:root:Found constant value array in batch 1840 and channel 0. Normalizing as zeros.\n",
      "WARNING:root:Found constant value array in batch 1841 and channel 0. Normalizing as zeros.\n",
      "WARNING:root:Found constant value array in batch 1842 and channel 0. Normalizing as zeros.\n",
      "WARNING:root:Found constant value array in batch 1843 and channel 0. Normalizing as zeros.\n",
      "WARNING:root:Found constant value array in batch 1844 and channel 0. Normalizing as zeros.\n",
      "WARNING:root:Found constant value array in batch 1845 and channel 0. Normalizing as zeros.\n",
      "WARNING:root:Found constant value array in batch 1846 and channel 0. Normalizing as zeros.\n",
      "WARNING:root:Found constant value array in batch 1847 and channel 0. Normalizing as zeros.\n"
     ]
    }
   ],
   "source": [
    "train_data, val_data = prepare_dataset(track_info,\n",
    "                                       batch_size=1)"
   ]
  },
  {
   "cell_type": "code",
   "execution_count": 8,
   "id": "b4345dbf",
   "metadata": {},
   "outputs": [],
   "source": [
    "it = iter(train_data)"
   ]
  },
  {
   "cell_type": "code",
   "execution_count": 9,
   "id": "c9c1ff1a",
   "metadata": {
    "scrolled": true
   },
   "outputs": [
    {
     "data": {
      "image/png": "[encoded data removed]",
      "text/plain": [
       "<Figure size 1440x720 with 80 Axes>"
      ]
     },
     "metadata": {
      "needs_background": "light"
     },
     "output_type": "display_data"
    }
   ],
   "source": [
    "import matplotlib.pyplot as plt\n",
    "\n",
    "fig, axes = plt.subplots(4,20,figsize=(20,10))\n",
    "\n",
    "for ax in axes.flatten():\n",
    "    ax.set_axis_off()\n",
    "    \n",
    "nxt = it.next()\n",
    "for j in range(71):\n",
    "    axes.flatten()[j].imshow(nxt[0]['appearances'][0,j])\n",
    "    axes.flatten()[j].set_axis_off()"
   ]
  },
  {
   "cell_type": "code",
   "execution_count": 10,
   "id": "1c4256e3",
   "metadata": {},
   "outputs": [],
   "source": [
    "import numpy as np\n",
    "import tensorflow as tf\n",
    "\n",
    "from tensorflow.keras import backend as K\n",
    "from tensorflow.keras import Model\n",
    "from tensorflow.keras.models import Sequential\n",
    "from tensorflow.keras.layers import TimeDistributed, Conv2D, Conv3D, LSTM, Conv2DTranspose\n",
    "from tensorflow.keras.layers import Input, Concatenate, InputLayer\n",
    "from tensorflow.keras.layers import Add, Subtract, Dense, Reshape\n",
    "from tensorflow.keras.layers import MaxPool3D, UpSampling3D\n",
    "from tensorflow.keras.layers import Activation, Softmax\n",
    "from tensorflow.keras.layers import BatchNormalization, Lambda\n",
    "from tensorflow_addons.layers import InstanceNormalization\n",
    "\n",
    "\n",
    "in_kwargs = {'axis':-1,\n",
    "             'center': True,\n",
    "             'scale': True,\n",
    "             'beta_initializer': 'random_uniform',\n",
    "             'gamma_initializer': 'random_uniform'}\n",
    "\n",
    "def residual_block(input_tensor, n_filters=64):\n",
    "    y = Conv3D(n_filters,\n",
    "           (1, 3, 3),\n",
    "           strides=1,\n",
    "           padding='same')(input_tensor)\n",
    "    y = InstanceNormalization(**in_kwargs)(y)\n",
    "    y = Activation('relu')(y)\n",
    "    \n",
    "    y = Conv3D(n_filters,\n",
    "           (1, 3, 3),\n",
    "           strides=1,\n",
    "           padding='same')(y)\n",
    "    y = InstanceNormalization(**in_kwargs)(y)\n",
    "    y = Activation('relu')(y)\n",
    "    \n",
    "    y = Add()([input_tensor, y])\n",
    "    \n",
    "    return y\n",
    "    \n",
    "class TrajectoryEncoder():   \n",
    "    def __init__(self,\n",
    "                 n_filters = 64,\n",
    "                 encoder_dim=256,\n",
    "                 embedding_dim=1024,\n",
    "                 appearance_shape=(71,32,32,1)):\n",
    "        \n",
    "        self.n_filters = n_filters\n",
    "        self.encoder_dim = encoder_dim\n",
    "        self.embedding_dim = embedding_dim\n",
    "        self.appearance_shape = appearance_shape\n",
    "        \n",
    "        # create encoder\n",
    "        self.app_encoder = self.get_appearance_encoder()\n",
    "        \n",
    "        # create embedding\n",
    "        self.embedding_model = self.get_embedding_model()\n",
    "        \n",
    "        # create decoder\n",
    "        self.app_decoder = self.get_appearance_decoder()\n",
    "        \n",
    "        # create autoencoder\n",
    "        self.autoencoder = self.get_autoencoder()\n",
    "    \n",
    "    def get_appearance_encoder(self):\n",
    "        app_shape = tuple([None] + list(self.appearance_shape)[1:])\n",
    "        inputs = Input(shape=app_shape, name='encoder_app_input')\n",
    "\n",
    "        x = inputs\n",
    "        x = Conv3D(self.n_filters,\n",
    "                       (1,3,3),\n",
    "                       strides=1,\n",
    "                       padding='same')(x)\n",
    "        \n",
    "        for i in range(5): \n",
    "            x = residual_block(x, self.n_filters)\n",
    "            x = residual_block(x, self.n_filters)\n",
    "\n",
    "            x = Conv3D(self.n_filters, \n",
    "                       (1,2,2), \n",
    "                       strides=(1,2,2), \n",
    "                       padding='valid',\n",
    "                       use_bias=False)(x)\n",
    "            \n",
    "        x = Lambda(lambda t: tf.squeeze(t, axis=(2, 3)))(x)\n",
    "        x = Dense(self.encoder_dim, name='dense_aeout')(x)\n",
    "        x = Activation('relu', name='appearance_embedding')(x)\n",
    "        return Model(inputs=inputs, outputs=x, name='appearance_encoder')\n",
    "        \n",
    "    def get_embedding_model(self):\n",
    "        encoded_shape = tuple([None, self.encoder_dim])\n",
    "        inputs = Input(shape=encoded_shape, name='embedding_model_input')\n",
    "        \n",
    "        x = inputs\n",
    "        x = Dense(self.embedding_dim)(x)\n",
    "        x = Activation('relu', name='embedding')(x)\n",
    "        return Model(inputs=inputs, outputs=x, name='embedding')\n",
    "    \n",
    "    def get_appearance_decoder(self):\n",
    "        embedding_shape = tuple([None, self.embedding_dim])\n",
    "        inputs = Input(shape=embedding_shape, name='encoder_app_input')\n",
    "\n",
    "        x = inputs\n",
    "        x = Lambda(lambda t: tf.expand_dims(t, axis=-2))(x)\n",
    "        x = Lambda(lambda t: tf.expand_dims(t, axis=-2))(x)\n",
    "        \n",
    "        x = Conv3D(self.n_filters,\n",
    "               (1,3,3),\n",
    "               strides=1,\n",
    "               padding='same')(x)\n",
    "        \n",
    "        for i in range(5): \n",
    "            x = residual_block(x, self.n_filters)\n",
    "            x = residual_block(x, self.n_filters)\n",
    "            x = UpSampling3D(size=(1, 2, 2))(x)\n",
    "            \n",
    "        x = Dense(1, name='appearance_reconstruction')(x)\n",
    "        return Model(inputs=inputs, outputs=x, name='appearances_decoder')\n",
    "        \n",
    "    def get_autoencoder(self):\n",
    "        app_input = Input(shape=self.appearance_shape, name='appearances')\n",
    "\n",
    "        x = self.app_encoder(app_input)\n",
    "        embedding = self.embedding_model(x)\n",
    "        reconstruction = self.app_decoder(embedding)\n",
    "\n",
    "        inputs = app_input\n",
    "        outputs = [embedding, reconstruction]\n",
    "        return Model(inputs=inputs, outputs=[embedding, reconstruction])"
   ]
  },
  {
   "cell_type": "code",
   "execution_count": 11,
   "id": "777fd803",
   "metadata": {},
   "outputs": [],
   "source": [
    "TE = TrajectoryEncoder()"
   ]
  },
  {
   "cell_type": "code",
   "execution_count": 12,
   "id": "f5eb3f29",
   "metadata": {},
   "outputs": [
    {
     "data": {
      "image/png": "[encoded data removed]",
      "text/plain": [
       "<IPython.core.display.Image object>"
      ]
     },
     "execution_count": 12,
     "metadata": {},
     "output_type": "execute_result"
    }
   ],
   "source": [
    "from tensorflow.keras.utils import plot_model\n",
    "plot_model(TE.autoencoder, show_shapes=True)"
   ]
  },
  {
   "cell_type": "code",
   "execution_count": 13,
   "id": "d1d41401",
   "metadata": {},
   "outputs": [],
   "source": [
    "def self_supervised_loss(y_true, y_pred):\n",
    "    \n",
    "    # Pair the current embedding with the future ground truth\n",
    "    # so that we predict the future from the past\n",
    "    \n",
    "    current_reconstruction = y_pred\n",
    "    gt = y_true\n",
    "    \n",
    "    loss = tf.keras.metrics.mean_squared_error(gt, current_reconstruction)\n",
    "    \n",
    "    return loss"
   ]
  },
  {
   "cell_type": "code",
   "execution_count": null,
   "id": "66a5886a",
   "metadata": {
    "scrolled": true
   },
   "outputs": [
    {
     "name": "stderr",
     "output_type": "stream",
     "text": [
      "/usr/local/lib/python3.6/dist-packages/tensorflow/python/keras/optimizer_v2/optimizer_v2.py:375: UserWarning: The `lr` argument is deprecated, use `learning_rate` instead.\n",
      "  \"The `lr` argument is deprecated, use `learning_rate` instead.\")\n"
     ]
    },
    {
     "name": "stdout",
     "output_type": "stream",
     "text": [
      "Training on 1 GPUs\n",
      "Epoch 1/16\n",
      "2048/2048 [==============================] - 377s 162ms/step - loss: 0.0147 - appearances_decoder_loss: 0.0147 - val_loss: 0.0107 - val_appearances_decoder_loss: 0.0107\n",
      "\n",
      "Epoch 00001: val_loss improved from inf to 0.01066, saving model to /data/models/resize_dense_model\n"
     ]
    },
    {
     "name": "stderr",
     "output_type": "stream",
     "text": [
      "/usr/local/lib/python3.6/dist-packages/tensorflow/python/keras/utils/generic_utils.py:497: CustomMaskWarning: Custom mask layers require a config and must override get_config. When loading, the custom mask layer must be passed to the custom_objects argument.\n",
      "  category=CustomMaskWarning)\n"
     ]
    },
    {
     "name": "stdout",
     "output_type": "stream",
     "text": [
      "INFO:tensorflow:Assets written to: /data/models/resize_dense_model/assets\n"
     ]
    },
    {
     "name": "stderr",
     "output_type": "stream",
     "text": [
      "INFO:tensorflow:Assets written to: /data/models/resize_dense_model/assets\n"
     ]
    },
    {
     "name": "stdout",
     "output_type": "stream",
     "text": [
      "Epoch 2/16\n",
      "2048/2048 [==============================] - 329s 161ms/step - loss: 0.0075 - appearances_decoder_loss: 0.0075 - val_loss: 0.0100 - val_appearances_decoder_loss: 0.0100\n",
      "\n",
      "Epoch 00002: val_loss improved from 0.01066 to 0.01004, saving model to /data/models/resize_dense_model\n"
     ]
    },
    {
     "name": "stderr",
     "output_type": "stream",
     "text": [
      "/usr/local/lib/python3.6/dist-packages/tensorflow/python/keras/utils/generic_utils.py:497: CustomMaskWarning: Custom mask layers require a config and must override get_config. When loading, the custom mask layer must be passed to the custom_objects argument.\n",
      "  category=CustomMaskWarning)\n"
     ]
    },
    {
     "name": "stdout",
     "output_type": "stream",
     "text": [
      "INFO:tensorflow:Assets written to: /data/models/resize_dense_model/assets\n"
     ]
    },
    {
     "name": "stderr",
     "output_type": "stream",
     "text": [
      "INFO:tensorflow:Assets written to: /data/models/resize_dense_model/assets\n"
     ]
    },
    {
     "name": "stdout",
     "output_type": "stream",
     "text": [
      "Epoch 3/16\n",
      "1999/2048 [============================>.] - ETA: 7s - loss: 0.0067 - appearances_decoder_loss: 0.0067"
     ]
    },
    {
     "name": "stderr",
     "output_type": "stream",
     "text": [
      "IOPub message rate exceeded.\n",
      "The notebook server will temporarily stop sending output\n",
      "to the client in order to avoid crashing it.\n",
      "To change this limit, set the config variable\n",
      "`--NotebookApp.iopub_msg_rate_limit`.\n",
      "\n",
      "Current values:\n",
      "NotebookApp.iopub_msg_rate_limit=1000.0 (msgs/sec)\n",
      "NotebookApp.rate_limit_window=3.0 (secs)\n",
      "\n"
     ]
    },
    {
     "name": "stdout",
     "output_type": "stream",
     "text": [
      "2048/2048 [==============================] - 329s 161ms/step - loss: 0.0046 - appearances_decoder_loss: 0.0046 - val_loss: 0.0062 - val_appearances_decoder_loss: 0.0062\n",
      "\n",
      "Epoch 00005: val_loss improved from 0.00685 to 0.00618, saving model to /data/models/resize_dense_model\n"
     ]
    },
    {
     "name": "stderr",
     "output_type": "stream",
     "text": [
      "/usr/local/lib/python3.6/dist-packages/tensorflow/python/keras/utils/generic_utils.py:497: CustomMaskWarning: Custom mask layers require a config and must override get_config. When loading, the custom mask layer must be passed to the custom_objects argument.\n",
      "  category=CustomMaskWarning)\n"
     ]
    },
    {
     "name": "stdout",
     "output_type": "stream",
     "text": [
      "INFO:tensorflow:Assets written to: /data/models/resize_dense_model/assets\n"
     ]
    },
    {
     "name": "stderr",
     "output_type": "stream",
     "text": [
      "INFO:tensorflow:Assets written to: /data/models/resize_dense_model/assets\n"
     ]
    },
    {
     "name": "stdout",
     "output_type": "stream",
     "text": [
      "Epoch 6/16\n",
      "2048/2048 [==============================] - 328s 160ms/step - loss: 0.0045 - appearances_decoder_loss: 0.0045 - val_loss: 0.0053 - val_appearances_decoder_loss: 0.0053\n",
      "\n",
      "Epoch 00006: val_loss improved from 0.00618 to 0.00530, saving model to /data/models/resize_dense_model\n"
     ]
    },
    {
     "name": "stderr",
     "output_type": "stream",
     "text": [
      "/usr/local/lib/python3.6/dist-packages/tensorflow/python/keras/utils/generic_utils.py:497: CustomMaskWarning: Custom mask layers require a config and must override get_config. When loading, the custom mask layer must be passed to the custom_objects argument.\n",
      "  category=CustomMaskWarning)\n"
     ]
    },
    {
     "name": "stdout",
     "output_type": "stream",
     "text": [
      "INFO:tensorflow:Assets written to: /data/models/resize_dense_model/assets\n"
     ]
    },
    {
     "name": "stderr",
     "output_type": "stream",
     "text": [
      "INFO:tensorflow:Assets written to: /data/models/resize_dense_model/assets\n"
     ]
    },
    {
     "name": "stdout",
     "output_type": "stream",
     "text": [
      "Epoch 7/16\n",
      "  12/2048 [..............................] - ETA: 5:24 - loss: 0.0045 - appearances_decoder_loss: 0.0045"
     ]
    },
    {
     "name": "stderr",
     "output_type": "stream",
     "text": [
      "IOPub message rate exceeded.\n",
      "The notebook server will temporarily stop sending output\n",
      "to the client in order to avoid crashing it.\n",
      "To change this limit, set the config variable\n",
      "`--NotebookApp.iopub_msg_rate_limit`.\n",
      "\n",
      "Current values:\n",
      "NotebookApp.iopub_msg_rate_limit=1000.0 (msgs/sec)\n",
      "NotebookApp.rate_limit_window=3.0 (secs)\n",
      "\n"
     ]
    },
    {
     "name": "stdout",
     "output_type": "stream",
     "text": [
      "2048/2048 [==============================] - 329s 161ms/step - loss: 0.0037 - appearances_decoder_loss: 0.0037 - val_loss: 0.0047 - val_appearances_decoder_loss: 0.0047\n",
      "\n",
      "Epoch 00008: val_loss improved from 0.00479 to 0.00468, saving model to /data/models/resize_dense_model\n"
     ]
    },
    {
     "name": "stderr",
     "output_type": "stream",
     "text": [
      "/usr/local/lib/python3.6/dist-packages/tensorflow/python/keras/utils/generic_utils.py:497: CustomMaskWarning: Custom mask layers require a config and must override get_config. When loading, the custom mask layer must be passed to the custom_objects argument.\n",
      "  category=CustomMaskWarning)\n"
     ]
    },
    {
     "name": "stdout",
     "output_type": "stream",
     "text": [
      "INFO:tensorflow:Assets written to: /data/models/resize_dense_model/assets\n"
     ]
    },
    {
     "name": "stderr",
     "output_type": "stream",
     "text": [
      "INFO:tensorflow:Assets written to: /data/models/resize_dense_model/assets\n"
     ]
    },
    {
     "name": "stdout",
     "output_type": "stream",
     "text": [
      "Epoch 9/16\n",
      "2048/2048 [==============================] - 328s 160ms/step - loss: 0.0032 - appearances_decoder_loss: 0.0032 - val_loss: 0.0043 - val_appearances_decoder_loss: 0.0043\n",
      "\n",
      "Epoch 00009: val_loss improved from 0.00468 to 0.00426, saving model to /data/models/resize_dense_model\n"
     ]
    },
    {
     "name": "stderr",
     "output_type": "stream",
     "text": [
      "/usr/local/lib/python3.6/dist-packages/tensorflow/python/keras/utils/generic_utils.py:497: CustomMaskWarning: Custom mask layers require a config and must override get_config. When loading, the custom mask layer must be passed to the custom_objects argument.\n",
      "  category=CustomMaskWarning)\n"
     ]
    },
    {
     "name": "stdout",
     "output_type": "stream",
     "text": [
      "INFO:tensorflow:Assets written to: /data/models/resize_dense_model/assets\n"
     ]
    },
    {
     "name": "stderr",
     "output_type": "stream",
     "text": [
      "INFO:tensorflow:Assets written to: /data/models/resize_dense_model/assets\n"
     ]
    },
    {
     "name": "stdout",
     "output_type": "stream",
     "text": [
      "Epoch 10/16\n",
      " 283/2048 [===>..........................] - ETA: 4:37 - loss: 0.0029 - appearances_decoder_loss: 0.0029"
     ]
    },
    {
     "name": "stderr",
     "output_type": "stream",
     "text": [
      "IOPub message rate exceeded.\n",
      "The notebook server will temporarily stop sending output\n",
      "to the client in order to avoid crashing it.\n",
      "To change this limit, set the config variable\n",
      "`--NotebookApp.iopub_msg_rate_limit`.\n",
      "\n",
      "Current values:\n",
      "NotebookApp.iopub_msg_rate_limit=1000.0 (msgs/sec)\n",
      "NotebookApp.rate_limit_window=3.0 (secs)\n",
      "\n"
     ]
    }
   ],
   "source": [
    "from tensorflow_addons.optimizers import RectifiedAdam as RAdam\n",
    "from deepcell import train_utils\n",
    "\n",
    "# Define optimizer\n",
    "optimizer = RAdam(lr=1e-3, clipnorm=0.001)\n",
    "losses = {'appearances_decoder': self_supervised_loss}\n",
    "num_gpus = train_utils.count_gpus()\n",
    "print('Training on {} GPUs'.format(num_gpus))\n",
    "\n",
    "# Compile model\n",
    "TE.autoencoder.compile(optimizer=optimizer, loss=losses)\n",
    "\n",
    "# Train the model\n",
    "model_path = '/data/models/resize_dense_model'\n",
    "steps_per_epoch = 2048\n",
    "validation_steps = 100\n",
    "n_epochs = 16\n",
    "\n",
    "train_callbacks = [\n",
    "    tf.keras.callbacks.ModelCheckpoint(\n",
    "        model_path, monitor='val_loss',\n",
    "        save_best_only=True, verbose=1,\n",
    "        save_weights_only=False),\n",
    "    tf.keras.callbacks.ReduceLROnPlateau(\n",
    "        monitor='val_loss', factor=0.5, verbose=1,\n",
    "        patience=3, min_lr=1e-7)\n",
    "]\n",
    "\n",
    "loss_history = TE.autoencoder.fit(\n",
    "    train_data,\n",
    "    steps_per_epoch=steps_per_epoch,\n",
    "    validation_data=val_data,\n",
    "    validation_steps=validation_steps,\n",
    "    epochs=n_epochs,\n",
    "    verbose=1,\n",
    "    callbacks=train_callbacks)"
   ]
  },
  {
   "cell_type": "code",
   "execution_count": null,
   "id": "26a14dbc",
   "metadata": {},
   "outputs": [],
   "source": [
    "TE.app_encoder.save('/data/models/resize_dense_app_encoder')\n",
    "TE.embedding_model.save('/data/models/resize_dense_embedding_model')\n",
    "TE.app_decoder.save('/data/models/resize_dense_app_decoder')"
   ]
  },
  {
   "cell_type": "code",
   "execution_count": null,
   "id": "38ebb8a3",
   "metadata": {},
   "outputs": [],
   "source": [
    "it = iter(train_data)"
   ]
  },
  {
   "cell_type": "code",
   "execution_count": 21,
   "id": "0bc24bd2",
   "metadata": {},
   "outputs": [],
   "source": [
    "nxt = it.next()\n",
    "inputs = nxt[0]['appearances']"
   ]
  },
  {
   "cell_type": "code",
   "execution_count": null,
   "id": "9c936c03",
   "metadata": {},
   "outputs": [],
   "source": [
    "fig, axes = plt.subplots(4,20,figsize=(20,10))\n",
    "\n",
    "for ax in axes.flatten():\n",
    "    ax.set_axis_off()\n",
    "    \n",
    "for j in range(71):\n",
    "    axes.flatten()[j].imshow(inputs[0,j])\n",
    "    axes.flatten()[j].set_axis_off()"
   ]
  },
  {
   "cell_type": "code",
   "execution_count": 19,
   "id": "eab449d4",
   "metadata": {},
   "outputs": [],
   "source": [
    "app_encoded = TE.app_encoder(inputs)\n",
    "embedding = TE.embedding_model(app_encoded)\n",
    "reconstruction = TE.app_decoder(embedding)"
   ]
  },
  {
   "cell_type": "code",
   "execution_count": 20,
   "id": "ff92bc50",
   "metadata": {},
   "outputs": [
    {
     "data": {
      "image/png": "[encoded data removed]",
      "text/plain": [
       "<Figure size 1440x720 with 80 Axes>"
      ]
     },
     "metadata": {
      "needs_background": "light"
     },
     "output_type": "display_data"
    }
   ],
   "source": [
    "fig, axes = plt.subplots(4,20,figsize=(20,10))\n",
    "\n",
    "for ax in axes.flatten():\n",
    "    ax.set_axis_off()\n",
    "    \n",
    "for j in range(71):\n",
    "    axes.flatten()[j].imshow(reconstruction[0,j])\n",
    "    axes.flatten()[j].set_axis_off()"
   ]
  },
  {
   "cell_type": "code",
   "execution_count": null,
   "id": "9ab37bc3",
   "metadata": {},
   "outputs": [],
   "source": []
  },
  {
   "cell_type": "code",
   "execution_count": null,
   "id": "57025d28",
   "metadata": {},
   "outputs": [],
   "source": []
  },
  {
   "cell_type": "code",
   "execution_count": null,
   "id": "10a62491",
   "metadata": {},
   "outputs": [],
   "source": []
  },
  {
   "cell_type": "code",
   "execution_count": null,
   "id": "7359913d",
   "metadata": {},
   "outputs": [],
   "source": []
  },
  {
   "cell_type": "code",
   "execution_count": null,
   "id": "59b5b913",
   "metadata": {},
   "outputs": [],
   "source": []
  },
  {
   "cell_type": "code",
   "execution_count": null,
   "id": "51ae2c09",
   "metadata": {},
   "outputs": [],
   "source": []
  }
 ],
 "metadata": {
  "kernelspec": {
   "display_name": "Python 3",
   "language": "python",
   "name": "python3"
  },
  "language_info": {
   "codemirror_mode": {
    "name": "ipython",
    "version": 3
   },
   "file_extension": ".py",
   "mimetype": "text/x-python",
   "name": "python",
   "nbconvert_exporter": "python",
   "pygments_lexer": "ipython3",
   "version": "3.6.9"
  }
 },
 "nbformat": 4,
 "nbformat_minor": 5
}
